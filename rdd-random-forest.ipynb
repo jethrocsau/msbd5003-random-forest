{
 "cells": [
  {
   "cell_type": "code",
   "execution_count": 41,
   "id": "e2bdfc35",
   "metadata": {},
   "outputs": [],
   "source": [
    "#Require pyspark implementation on server\n",
    "\n",
    "import numpy as np\n",
    "import pandas as pd\n",
    "from pyspark.sql.functions import *\n",
    "from pyspark.sql import functions as F\n",
    "from pyspark.sql.types import *\n",
    "from utils import *"
   ]
  },
  {
   "cell_type": "code",
   "execution_count": 361,
   "id": "1b3a5ef0",
   "metadata": {},
   "outputs": [
    {
     "name": "stdout",
     "output_type": "stream",
     "text": [
      "all_categorical_arr: x_all_categorical_arr.shape=(100, 10)\n",
      "all_numerical_arr: x_all_numerical_arr.shape=(100, 10)\n"
     ]
    }
   ],
   "source": [
    "#random gen dataset\n",
    "RANDOM_SEED = 42\n",
    "np.random.seed(RANDOM_SEED)\n",
    "x_all_categorical_arr = np.random.randint(0, 2, (100, 10))\n",
    "x_all_numerical_arr = np.random.rand(100, 10)\n",
    "y_categorical_arr = np.random.randint(0, 2, 100)\n",
    "#balanced_arr = np.concatenate([balanced_categorical_arr, balanced_numerical_arr], axis=1)\n",
    "print(f\"all_categorical_arr: {x_all_categorical_arr.shape=}\")\n",
    "print(f\"all_numerical_arr: {x_all_numerical_arr.shape=}\")\n",
    "#print(f\"balanced_arr: {balanced_arr.shape=}\")"
   ]
  },
  {
   "cell_type": "code",
   "execution_count": 362,
   "id": "67df864a",
   "metadata": {},
   "outputs": [],
   "source": [
    "#Generate Spark DataFrame\n",
    "x_data = spark.createDataFrame(x_all_numerical_arr)\n",
    "y_data = spark.createDataFrame(y_categorical_arr,['y'])\n",
    "\n",
    "#Index\n",
    "x_indexed=x_data.withColumn(\"id\",monotonically_increasing_id())\n",
    "y_indexed=y_data.withColumn(\"id\",monotonically_increasing_id())"
   ]
  },
  {
   "cell_type": "code",
   "execution_count": 365,
   "id": "eef2fea2",
   "metadata": {},
   "outputs": [
    {
     "name": "stdout",
     "output_type": "stream",
     "text": [
      "['_1', '_2', '_3', '_4', '_5', '_6', '_7', '_8', '_9', '_10']\n",
      "['y']\n"
     ]
    }
   ],
   "source": [
    "# create joined df for computation with one id\n",
    "joined_df = x_indexed.join(y_indexed, \"id\").drop('id')\n",
    "x_train = joined_df.drop('y')\n",
    "y_train = joined_df.select('y')\n",
    "print(x_train.columns)\n",
    "print(y_train.columns)"
   ]
  },
  {
   "cell_type": "code",
   "execution_count": 366,
   "id": "4ac62236",
   "metadata": {},
   "outputs": [
    {
     "data": {
      "text/plain": [
       "10"
      ]
     },
     "execution_count": 366,
     "metadata": {},
     "output_type": "execute_result"
    }
   ],
   "source": [
    "#partition the dataframe dataset\n",
    "joined_df.repartition(10).rdd.getNumPartitions()"
   ]
  },
  {
   "cell_type": "code",
   "execution_count": 386,
   "id": "5fd7d877",
   "metadata": {},
   "outputs": [],
   "source": [
    "# Define node split algorithsm in RDD\n",
    "def new_split(joined_df, feature_index):\n",
    "\n",
    "    # Select relevant columns\n",
    "    feature_col_name = joined_df.columns[feature_index]\n",
    "    y_col_name = joined_df.columns[-1]\n",
    "    split_data = joined_df.select(feature_col_name, y_col_name)\\\n",
    "        .withColumnRenamed(feature_col_name,\"split_value\")\\\n",
    "        .withColumnRenamed(y_col_name,\"y\")\n",
    "\n",
    "    # Calculate parent entropy\n",
    "    parent_entropy = class_entropy(joined_df.select(\"y\"))\n",
    "    parent_data_count = joined_df.count()\n",
    "\n",
    "    # Calculate potential splits and their Information Gain\n",
    "    distinct_values = split_data.select(\"split_value\")\\\n",
    "        .withColumnRenamed(\"split_value\",\"feature\")\\\n",
    "        .distinct().orderBy(\"feature\")\n",
    "\n",
    "    # Cartesian join to get split mask\n",
    "    splits_info = distinct_values.crossJoin(split_data)\\\n",
    "        .withColumn(\n",
    "        \"is_left\", F.col(\"feature\") <= F.col(\"split_value\")\n",
    "    )\n",
    "\n",
    "    #aggregate list\n",
    "    entropies = splits_info.groupBy(\"split_value\", \"is_left\").agg(\n",
    "        F.count(\"y\").alias(\"count\"),\n",
    "        F.sum(\"y\").alias(\"sum\"),\n",
    "        prob_udf(F.collect_list(\"y\")).alias(\"prob\")\n",
    "    )\n",
    "    entropies = entropies.withColumn(\"entropy\",\\\n",
    "                                    -F.col(\"prob\") * F.log2(F.col(\"prob\")) \\\n",
    "                                    -(1-F.col(\"prob\")) * F.log2((1-F.col(\"prob\")))\n",
    "                                    )\n",
    "    # Calculate Information Gain for each split\n",
    "    info_gain = entropies.groupBy(\"split_value\").agg(\n",
    "        (parent_entropy - F.sum(F.col(\"entropy\") * (F.col(\"count\") / parent_data_count))).alias(\"info_gain\")\n",
    "    )\n",
    "\n",
    "    # Get the best split\n",
    "    best_split = info_gain.orderBy(F.desc(\"info_gain\")).first()\n",
    "\n",
    "    schema = StructType([\n",
    "        StructField(\"feature\", IntegerType(), True),\n",
    "        StructField(\"split_value\", FloatType(), True),\n",
    "        StructField(\"info_gain\", FloatType(), True),\n",
    "    ])\n",
    "\n",
    "    # Prepare output DataFrame\n",
    "    result_df = spark.createDataFrame([(feature_index, float(best_split[\"split_value\"]), best_split[\"info_gain\"])], schema)\n",
    "\n",
    "    return result_df"
   ]
  },
  {
   "cell_type": "code",
   "execution_count": 388,
   "id": "1fb0420b",
   "metadata": {},
   "outputs": [
    {
     "name": "stdout",
     "output_type": "stream",
     "text": [
      "+-------+-----------+---------+\n",
      "|feature|split_value|info_gain|\n",
      "+-------+-----------+---------+\n",
      "|      0| 0.46267977|     NULL|\n",
      "+-------+-----------+---------+\n",
      "\n"
     ]
    }
   ],
   "source": [
    "#test parallelized single node splitting using entropy and information gain\n",
    "test = new_split(joined_df,0).show()"
   ]
  },
  {
   "cell_type": "code",
   "execution_count": 408,
   "id": "a865cd16",
   "metadata": {},
   "outputs": [],
   "source": [
    "# Recursively grow the tree\n",
    "\n",
    "def grow_tree(df,feature_array, depth=0, max_depth=3):\n",
    "\n",
    "    y_label = df.columns[-1]\n",
    "\n",
    "    if depth == max_depth or class_entropy(df.select(y_label)) == 0:\n",
    "        # Return the most common label\n",
    "        return df.groupBy(y_label).count().orderBy(y_label, ascending=False).first()['label']\n",
    "\n",
    "    best_feature = None\n",
    "    best_gain = 0\n",
    "\n",
    "    #get features\n",
    "    feature_df = feature_split(df,feature_array)\n",
    "    feature_list = feature_df.collect()\n",
    "\n",
    "    for feature in feature_list:  # Assume feature columns\n",
    "        gain = feature[2]\n",
    "        if gain > best_gain:\n",
    "            best_gain = gain\n",
    "            best_feature = feature[0]\n",
    "\n",
    "    if best_feature is None:\n",
    "        return df.groupBy(y_label).count().orderBy('count', ascending=False).first()[y_label]\n",
    "\n",
    "\n",
    "    # Recursive split\n",
    "    left_df = df.filter(col(best_feature) <= 0.5)  # Assume binary split\n",
    "    right_df = df.filter(col(best_feature) > 0.5)\n",
    "\n",
    "    left_tree = grow_tree(left_df, depth + 1, max_depth)\n",
    "    right_tree = grow_tree(right_df, depth + 1, max_depth)\n",
    "    return {best_feature: {'left': left_tree, 'right': right_tree}}"
   ]
  },
  {
   "cell_type": "code",
   "execution_count": 320,
   "id": "3f6d921a",
   "metadata": {},
   "outputs": [],
   "source": [
    "#random forest training\n",
    "import random\n",
    "\n",
    "def random_forest_train(df, num_trees, max_depth=3):\n",
    "    trees = []\n",
    "    num_features = len(df.first()['features'])\n",
    "    for _ in range(num_trees):\n",
    "        sampled_df = df.sample(withReplacement=True, fraction=1.0)\n",
    "        feature_indices = random.sample(range(num_features), k=int(log(num_features, 2) + 1))\n",
    "        feature_cols = [f\"features[{i}]\" for i in feature_indices]\n",
    "        tree = grow_tree(sampled_df, 0, max_depth)\n",
    "        trees.append(tree)\n",
    "    return trees"
   ]
  }
 ],
 "metadata": {
  "kernelspec": {
   "display_name": "Python 3 (ipykernel)",
   "language": "python",
   "name": "python3"
  },
  "language_info": {
   "codemirror_mode": {
    "name": "ipython",
    "version": 3
   },
   "file_extension": ".py",
   "mimetype": "text/x-python",
   "name": "python",
   "nbconvert_exporter": "python",
   "pygments_lexer": "ipython3",
   "version": "3.11.5"
  }
 },
 "nbformat": 4,
 "nbformat_minor": 5
}
